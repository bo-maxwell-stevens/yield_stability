{
 "cells": [
  {
   "cell_type": "markdown",
   "id": "28ec65d7-6b31-41cf-9db7-bac55c41e05f",
   "metadata": {},
   "source": [
    "# Getting lists of the years of the data for each field"
   ]
  },
  {
   "cell_type": "code",
   "execution_count": 6,
   "id": "6699c785-c778-4b62-b816-28d2d4edc640",
   "metadata": {},
   "outputs": [],
   "source": [
    "import os\n",
    "from collections import defaultdict\n",
    "import pandas as pd"
   ]
  },
  {
   "cell_type": "code",
   "execution_count": 2,
   "id": "2ac67eb5-a43b-4cb9-b303-1d88fc965300",
   "metadata": {},
   "outputs": [],
   "source": [
    "def get_years_for_fields(data_directory):\n",
    "    data = defaultdict(lambda: defaultdict(list))\n",
    "\n",
    "    # Traverse the directory structure\n",
    "    for state in os.listdir(data_directory):\n",
    "        state_path = os.path.join(data_directory, state)\n",
    "        if os.path.isdir(state_path):\n",
    "            for field in os.listdir(state_path):\n",
    "                field_path = os.path.join(state_path, field, \"corn\")\n",
    "                if os.path.isdir(field_path):\n",
    "                    for year in os.listdir(field_path):\n",
    "                        year_path = os.path.join(field_path, year)\n",
    "                        if os.path.isdir(year_path) and year.isdigit():\n",
    "                            data[state][field].append(year)\n",
    "\n",
    "    return data"
   ]
  },
  {
   "cell_type": "code",
   "execution_count": 3,
   "id": "75251607-acc9-4100-b1bf-41d0ab0fe3d3",
   "metadata": {},
   "outputs": [
    {
     "name": "stdout",
     "output_type": "stream",
     "text": [
      "State: CO\n",
      "  Field: 13-N1\n",
      "    Years: 2014, 2017, 2021\n",
      "  Field: 13-N2\n",
      "    Years: 2015, 2018, 2019\n",
      "State: KY\n",
      "  Field: Kentucky\n",
      "    Years: 2013, 2015, 2017, 2020, 2024\n",
      "State: MD\n",
      "  Field: Hevelow5\n",
      "    Years: 2015, 2018, 2020, 2023\n",
      "  Field: Kennedyville2\n",
      "    Years: 2014, 2016, 2018, 2021, 2023\n",
      "State: TX\n",
      "  Field: 6-12\n",
      "    Years: 2018, 2019, 2020, 2022, 2023\n",
      "  Field: Y10\n",
      "    Years: 2018, 2019, 2020, 2022, 2023\n"
     ]
    }
   ],
   "source": [
    "# Example usage\n",
    "data_directory = \"../Data\"\n",
    "field_data = get_years_for_fields(data_directory)\n",
    "\n",
    "# Printing the results\n",
    "for state, fields in field_data.items():\n",
    "    print(f\"State: {state}\")\n",
    "    for field, years in fields.items():\n",
    "        print(f\"  Field: {field}\")\n",
    "        print(f\"    Years: {', '.join(years)}\")\n"
   ]
  },
  {
   "cell_type": "code",
   "execution_count": 9,
   "id": "af17f0ac-d61d-41d5-a0e0-4a32c45f9fa2",
   "metadata": {},
   "outputs": [],
   "source": [
    "pd.DataFrame(field_data).to_csv('years_fields_corn.csv')"
   ]
  }
 ],
 "metadata": {
  "kernelspec": {
   "display_name": "Python 3 (ipykernel)",
   "language": "python",
   "name": "python3"
  },
  "language_info": {
   "codemirror_mode": {
    "name": "ipython",
    "version": 3
   },
   "file_extension": ".py",
   "mimetype": "text/x-python",
   "name": "python",
   "nbconvert_exporter": "python",
   "pygments_lexer": "ipython3",
   "version": "3.11.4"
  }
 },
 "nbformat": 4,
 "nbformat_minor": 5
}
